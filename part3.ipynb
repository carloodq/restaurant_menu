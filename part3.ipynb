{
 "cells": [
  {
   "cell_type": "markdown",
   "metadata": {},
   "source": [
    "# Part 3 - RAG on LangChain an FAISS"
   ]
  },
  {
   "cell_type": "code",
   "execution_count": null,
   "metadata": {},
   "outputs": [],
   "source": [
    "\n",
    "import pandas as pd\n",
    "df = pd.read_csv(\"recipes_nlg.csv\")\n",
    "df = df.head(500)\n"
   ]
  },
  {
   "cell_type": "code",
   "execution_count": null,
   "metadata": {},
   "outputs": [],
   "source": [
    "\n",
    "# https://youtu.be/Dh0sWMQzNH4\n",
    "\n",
    "from dotenv import load_dotenv\n",
    "import os\n",
    "from IPython.display import display, Markdown\n",
    "\n",
    "from langchain.embeddings.openai import OpenAIEmbeddings\n",
    "from langchain.vectorstores import FAISS\n",
    "from langchain.llms import OpenAI\n",
    "from langchain.chains import RetrievalQA\n",
    "\n",
    "\n",
    "\n",
    "load_dotenv() \n",
    "\n",
    "\n",
    "\n",
    "file = \"recipes_nlg.csv\"\n",
    "\n",
    "docs = [str(x) for x in df.values]  # only keeping the description\n",
    "\n",
    "\n",
    "\n",
    "embeddings = OpenAIEmbeddings()\n",
    "\n",
    "docsearch = FAISS.from_texts(docs, embeddings)\n",
    "\n",
    "\n",
    "\n",
    "\n",
    "llm = OpenAI()\n",
    "\n"
   ]
  },
  {
   "cell_type": "code",
   "execution_count": null,
   "metadata": {},
   "outputs": [],
   "source": [
    "retriever = docsearch.as_retriever(search_kwargs={\"k\": 3})\n",
    "\n",
    "\n",
    "qa_stuff = RetrievalQA.from_chain_type(llm=llm,\n",
    "                       chain_type=\"stuff\",\n",
    "                           retriever=retriever)\n",
    "# Ask a question - then I can try with spicy or with mushrooms\n",
    "query  = \"Please list all spicy recipes in a table \\\n",
    "in markdown and summarize them.\"\n",
    "\n",
    "# docs = docsearch.similarity_search(query )\n",
    "\n",
    "\n",
    "response = qa_stuff.run(query)\n",
    "display(Markdown(response))"
   ]
  }
 ],
 "metadata": {
  "language_info": {
   "name": "python"
  }
 },
 "nbformat": 4,
 "nbformat_minor": 2
}
